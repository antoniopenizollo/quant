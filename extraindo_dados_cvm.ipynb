{
  "nbformat": 4,
  "nbformat_minor": 0,
  "metadata": {
    "colab": {
      "name": "extraindo-dados-cvm.ipynb",
      "provenance": [],
      "authorship_tag": "ABX9TyO3Tiia/JjKvot3tiIOn5lE",
      "include_colab_link": true
    },
    "kernelspec": {
      "name": "python3",
      "display_name": "Python 3"
    }
  },
  "cells": [
    {
      "cell_type": "markdown",
      "metadata": {
        "id": "view-in-github",
        "colab_type": "text"
      },
      "source": [
        "<a href=\"https://colab.research.google.com/github/antoniopenizollo/quant/blob/main/extraindo_dados_cvm.ipynb\" target=\"_parent\"><img src=\"https://colab.research.google.com/assets/colab-badge.svg\" alt=\"Open In Colab\"/></a>"
      ]
    },
    {
      "cell_type": "code",
      "metadata": {
        "colab": {
          "base_uri": "https://localhost:8080/"
        },
        "id": "Vpp7CJwhmZOe",
        "outputId": "60e81d44-8408-49ea-abcb-5411a774b1f9"
      },
      "source": [
        "!pip install wget"
      ],
      "execution_count": 1,
      "outputs": [
        {
          "output_type": "stream",
          "text": [
            "Requirement already satisfied: wget in /usr/local/lib/python3.6/dist-packages (3.2)\n"
          ],
          "name": "stdout"
        }
      ]
    },
    {
      "cell_type": "code",
      "metadata": {
        "id": "HWkCewRamvCW"
      },
      "source": [
        "import pandas as pd\n",
        "import wget\n",
        "from zipfile import ZipFile"
      ],
      "execution_count": 2,
      "outputs": []
    },
    {
      "cell_type": "code",
      "metadata": {
        "id": "p_39_5Thm62W"
      },
      "source": [
        "url_base = 'http://dados.cvm.gov.br/dados/CIA_ABERTA/DOC/ITR/DADOS/'"
      ],
      "execution_count": 3,
      "outputs": []
    },
    {
      "cell_type": "code",
      "metadata": {
        "colab": {
          "base_uri": "https://localhost:8080/"
        },
        "id": "oR15ZR2mnBKM",
        "outputId": "dd51a4fa-d40b-4e22-9517-460507730aa2"
      },
      "source": [
        "arquivos_zip = []\n",
        "for ano in range (2011,2021):\n",
        "  arquivos_zip.append(f'itr_cia_aberta_{ano}.zip')\n",
        "\n",
        "arquivos_zip"
      ],
      "execution_count": 4,
      "outputs": [
        {
          "output_type": "execute_result",
          "data": {
            "text/plain": [
              "['itr_cia_aberta_2011.zip',\n",
              " 'itr_cia_aberta_2012.zip',\n",
              " 'itr_cia_aberta_2013.zip',\n",
              " 'itr_cia_aberta_2014.zip',\n",
              " 'itr_cia_aberta_2015.zip',\n",
              " 'itr_cia_aberta_2016.zip',\n",
              " 'itr_cia_aberta_2017.zip',\n",
              " 'itr_cia_aberta_2018.zip',\n",
              " 'itr_cia_aberta_2019.zip',\n",
              " 'itr_cia_aberta_2020.zip']"
            ]
          },
          "metadata": {
            "tags": []
          },
          "execution_count": 4
        }
      ]
    },
    {
      "cell_type": "code",
      "metadata": {
        "id": "7kELxYFIm9PV"
      },
      "source": [
        "for arq in arquivos_zip:\n",
        "  wget.download(url_base+arq)"
      ],
      "execution_count": null,
      "outputs": []
    },
    {
      "cell_type": "code",
      "metadata": {
        "id": "R3CqO8nGoCGO"
      },
      "source": [
        "for arq in arquivos_zip:\n",
        "  ZipFile(arq,'r').extractall('CVM')"
      ],
      "execution_count": 6,
      "outputs": []
    },
    {
      "cell_type": "code",
      "metadata": {
        "id": "pcAlpQvFo6f2"
      },
      "source": [
        "nomes = ['BPA_con','BPA_ind','BPP_con','BPP_ind','DFC_MD_con','DFC_MD_ind','DFC_MI_con','DFC_MI_ind','DMPL_con','DMPL_ind','DRE_con','DRE_ind','DVA_con','DVA_ind']\n",
        "for nome in nomes:\n",
        "  arquivo = pd.DataFrame()\n",
        "  for ano in range(2011,2020):\n",
        "    arquivo = pd.concat([arquivo,pd.read_csv(f'CVM/itr_cia_aberta_{nome}_{ano}.csv',sep=';',decimal=',',encoding='ISO-8859-1')])\n",
        "  arquivo.to_csv(f'DADOS/itr_cia_aberta_{nome}_2011_2020',index=False)"
      ],
      "execution_count": 7,
      "outputs": []
    },
    {
      "cell_type": "code",
      "metadata": {
        "id": "sQkqz6lRtnhi"
      },
      "source": [
        "dre = pd.read_csv('/content/DADOS/itr_cia_aberta_BPP_ind_2011_2020')"
      ],
      "execution_count": 8,
      "outputs": []
    },
    {
      "cell_type": "code",
      "metadata": {
        "colab": {
          "base_uri": "https://localhost:8080/",
          "height": 529
        },
        "id": "bnFp9oi5tv7Z",
        "outputId": "d36c4eb1-1b58-4e2f-b2e8-39d64f3d28bf"
      },
      "source": [
        "dre.head(10)"
      ],
      "execution_count": 10,
      "outputs": [
        {
          "output_type": "execute_result",
          "data": {
            "text/html": [
              "<div>\n",
              "<style scoped>\n",
              "    .dataframe tbody tr th:only-of-type {\n",
              "        vertical-align: middle;\n",
              "    }\n",
              "\n",
              "    .dataframe tbody tr th {\n",
              "        vertical-align: top;\n",
              "    }\n",
              "\n",
              "    .dataframe thead th {\n",
              "        text-align: right;\n",
              "    }\n",
              "</style>\n",
              "<table border=\"1\" class=\"dataframe\">\n",
              "  <thead>\n",
              "    <tr style=\"text-align: right;\">\n",
              "      <th></th>\n",
              "      <th>CNPJ_CIA</th>\n",
              "      <th>DT_REFER</th>\n",
              "      <th>VERSAO</th>\n",
              "      <th>DENOM_CIA</th>\n",
              "      <th>CD_CVM</th>\n",
              "      <th>GRUPO_DFP</th>\n",
              "      <th>MOEDA</th>\n",
              "      <th>ESCALA_MOEDA</th>\n",
              "      <th>ORDEM_EXERC</th>\n",
              "      <th>DT_FIM_EXERC</th>\n",
              "      <th>CD_CONTA</th>\n",
              "      <th>DS_CONTA</th>\n",
              "      <th>VL_CONTA</th>\n",
              "      <th>ST_CONTA_FIXA</th>\n",
              "    </tr>\n",
              "  </thead>\n",
              "  <tbody>\n",
              "    <tr>\n",
              "      <th>0</th>\n",
              "      <td>00.000.000/0001-91</td>\n",
              "      <td>2011-03-31</td>\n",
              "      <td>1</td>\n",
              "      <td>BCO BRASIL S.A.</td>\n",
              "      <td>1023</td>\n",
              "      <td>DF Individual - Balanço Patrimonial Passivo</td>\n",
              "      <td>REAL</td>\n",
              "      <td>MIL</td>\n",
              "      <td>PENÚLTIMO</td>\n",
              "      <td>2010-12-31</td>\n",
              "      <td>2</td>\n",
              "      <td>Passivo Total</td>\n",
              "      <td>737497177.0</td>\n",
              "      <td>S</td>\n",
              "    </tr>\n",
              "    <tr>\n",
              "      <th>1</th>\n",
              "      <td>00.000.000/0001-91</td>\n",
              "      <td>2011-03-31</td>\n",
              "      <td>1</td>\n",
              "      <td>BCO BRASIL S.A.</td>\n",
              "      <td>1023</td>\n",
              "      <td>DF Individual - Balanço Patrimonial Passivo</td>\n",
              "      <td>REAL</td>\n",
              "      <td>MIL</td>\n",
              "      <td>ÚLTIMO</td>\n",
              "      <td>2011-03-31</td>\n",
              "      <td>2</td>\n",
              "      <td>Passivo Total</td>\n",
              "      <td>787908489.0</td>\n",
              "      <td>S</td>\n",
              "    </tr>\n",
              "    <tr>\n",
              "      <th>2</th>\n",
              "      <td>00.000.000/0001-91</td>\n",
              "      <td>2011-03-31</td>\n",
              "      <td>1</td>\n",
              "      <td>BCO BRASIL S.A.</td>\n",
              "      <td>1023</td>\n",
              "      <td>DF Individual - Balanço Patrimonial Passivo</td>\n",
              "      <td>REAL</td>\n",
              "      <td>MIL</td>\n",
              "      <td>PENÚLTIMO</td>\n",
              "      <td>2010-12-31</td>\n",
              "      <td>2.01</td>\n",
              "      <td>Passivo Circulante</td>\n",
              "      <td>505211636.0</td>\n",
              "      <td>S</td>\n",
              "    </tr>\n",
              "    <tr>\n",
              "      <th>3</th>\n",
              "      <td>00.000.000/0001-91</td>\n",
              "      <td>2011-03-31</td>\n",
              "      <td>1</td>\n",
              "      <td>BCO BRASIL S.A.</td>\n",
              "      <td>1023</td>\n",
              "      <td>DF Individual - Balanço Patrimonial Passivo</td>\n",
              "      <td>REAL</td>\n",
              "      <td>MIL</td>\n",
              "      <td>ÚLTIMO</td>\n",
              "      <td>2011-03-31</td>\n",
              "      <td>2.01</td>\n",
              "      <td>Passivo Circulante</td>\n",
              "      <td>536607202.0</td>\n",
              "      <td>S</td>\n",
              "    </tr>\n",
              "    <tr>\n",
              "      <th>4</th>\n",
              "      <td>00.000.000/0001-91</td>\n",
              "      <td>2011-03-31</td>\n",
              "      <td>1</td>\n",
              "      <td>BCO BRASIL S.A.</td>\n",
              "      <td>1023</td>\n",
              "      <td>DF Individual - Balanço Patrimonial Passivo</td>\n",
              "      <td>REAL</td>\n",
              "      <td>MIL</td>\n",
              "      <td>PENÚLTIMO</td>\n",
              "      <td>2010-12-31</td>\n",
              "      <td>2.01.01</td>\n",
              "      <td>Depósitos</td>\n",
              "      <td>284318438.0</td>\n",
              "      <td>S</td>\n",
              "    </tr>\n",
              "    <tr>\n",
              "      <th>5</th>\n",
              "      <td>00.000.000/0001-91</td>\n",
              "      <td>2011-03-31</td>\n",
              "      <td>1</td>\n",
              "      <td>BCO BRASIL S.A.</td>\n",
              "      <td>1023</td>\n",
              "      <td>DF Individual - Balanço Patrimonial Passivo</td>\n",
              "      <td>REAL</td>\n",
              "      <td>MIL</td>\n",
              "      <td>ÚLTIMO</td>\n",
              "      <td>2011-03-31</td>\n",
              "      <td>2.01.01</td>\n",
              "      <td>Depósitos</td>\n",
              "      <td>283063995.0</td>\n",
              "      <td>S</td>\n",
              "    </tr>\n",
              "    <tr>\n",
              "      <th>6</th>\n",
              "      <td>00.000.000/0001-91</td>\n",
              "      <td>2011-03-31</td>\n",
              "      <td>1</td>\n",
              "      <td>BCO BRASIL S.A.</td>\n",
              "      <td>1023</td>\n",
              "      <td>DF Individual - Balanço Patrimonial Passivo</td>\n",
              "      <td>REAL</td>\n",
              "      <td>MIL</td>\n",
              "      <td>PENÚLTIMO</td>\n",
              "      <td>2010-12-31</td>\n",
              "      <td>2.01.01.01</td>\n",
              "      <td>Depósitos à Vista</td>\n",
              "      <td>63295580.0</td>\n",
              "      <td>N</td>\n",
              "    </tr>\n",
              "    <tr>\n",
              "      <th>7</th>\n",
              "      <td>00.000.000/0001-91</td>\n",
              "      <td>2011-03-31</td>\n",
              "      <td>1</td>\n",
              "      <td>BCO BRASIL S.A.</td>\n",
              "      <td>1023</td>\n",
              "      <td>DF Individual - Balanço Patrimonial Passivo</td>\n",
              "      <td>REAL</td>\n",
              "      <td>MIL</td>\n",
              "      <td>ÚLTIMO</td>\n",
              "      <td>2011-03-31</td>\n",
              "      <td>2.01.01.01</td>\n",
              "      <td>Depósitos à Vista</td>\n",
              "      <td>59357938.0</td>\n",
              "      <td>N</td>\n",
              "    </tr>\n",
              "    <tr>\n",
              "      <th>8</th>\n",
              "      <td>00.000.000/0001-91</td>\n",
              "      <td>2011-03-31</td>\n",
              "      <td>1</td>\n",
              "      <td>BCO BRASIL S.A.</td>\n",
              "      <td>1023</td>\n",
              "      <td>DF Individual - Balanço Patrimonial Passivo</td>\n",
              "      <td>REAL</td>\n",
              "      <td>MIL</td>\n",
              "      <td>PENÚLTIMO</td>\n",
              "      <td>2010-12-31</td>\n",
              "      <td>2.01.01.02</td>\n",
              "      <td>Depósitos de Poupança</td>\n",
              "      <td>89287840.0</td>\n",
              "      <td>N</td>\n",
              "    </tr>\n",
              "    <tr>\n",
              "      <th>9</th>\n",
              "      <td>00.000.000/0001-91</td>\n",
              "      <td>2011-03-31</td>\n",
              "      <td>1</td>\n",
              "      <td>BCO BRASIL S.A.</td>\n",
              "      <td>1023</td>\n",
              "      <td>DF Individual - Balanço Patrimonial Passivo</td>\n",
              "      <td>REAL</td>\n",
              "      <td>MIL</td>\n",
              "      <td>ÚLTIMO</td>\n",
              "      <td>2011-03-31</td>\n",
              "      <td>2.01.01.02</td>\n",
              "      <td>Depósitos de Poupança</td>\n",
              "      <td>90516215.0</td>\n",
              "      <td>N</td>\n",
              "    </tr>\n",
              "  </tbody>\n",
              "</table>\n",
              "</div>"
            ],
            "text/plain": [
              "             CNPJ_CIA    DT_REFER  ...     VL_CONTA ST_CONTA_FIXA\n",
              "0  00.000.000/0001-91  2011-03-31  ...  737497177.0             S\n",
              "1  00.000.000/0001-91  2011-03-31  ...  787908489.0             S\n",
              "2  00.000.000/0001-91  2011-03-31  ...  505211636.0             S\n",
              "3  00.000.000/0001-91  2011-03-31  ...  536607202.0             S\n",
              "4  00.000.000/0001-91  2011-03-31  ...  284318438.0             S\n",
              "5  00.000.000/0001-91  2011-03-31  ...  283063995.0             S\n",
              "6  00.000.000/0001-91  2011-03-31  ...   63295580.0             N\n",
              "7  00.000.000/0001-91  2011-03-31  ...   59357938.0             N\n",
              "8  00.000.000/0001-91  2011-03-31  ...   89287840.0             N\n",
              "9  00.000.000/0001-91  2011-03-31  ...   90516215.0             N\n",
              "\n",
              "[10 rows x 14 columns]"
            ]
          },
          "metadata": {
            "tags": []
          },
          "execution_count": 10
        }
      ]
    }
  ]
}
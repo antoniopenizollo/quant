{
  "nbformat": 4,
  "nbformat_minor": 0,
  "metadata": {
    "colab": {
      "name": "web scraping-b3.ipynb",
      "provenance": [],
      "authorship_tag": "ABX9TyMxuI069tfPI7vNv5JZo1cr",
      "include_colab_link": true
    },
    "kernelspec": {
      "name": "python3",
      "display_name": "Python 3"
    }
  },
  "cells": [
    {
      "cell_type": "markdown",
      "metadata": {
        "id": "view-in-github",
        "colab_type": "text"
      },
      "source": [
        "<a href=\"https://colab.research.google.com/github/antoniopenizollo/quant/blob/main/web_scraping_b3.ipynb\" target=\"_parent\"><img src=\"https://colab.research.google.com/assets/colab-badge.svg\" alt=\"Open In Colab\"/></a>"
      ]
    },
    {
      "cell_type": "code",
      "metadata": {
        "id": "e32xCChCTkDs"
      },
      "source": [
        "import pandas as pd"
      ],
      "execution_count": 1,
      "outputs": []
    },
    {
      "cell_type": "code",
      "metadata": {
        "id": "hbPdRfAcUMbC"
      },
      "source": [
        "def busca_carteira_teorica(indice):\n",
        "  url = 'http://bvmf.bmfbovespa.com.br/indices/ResumoCarteiraTeorica.aspx?Indice={}&idioma=pt-br'.format(indice.upper())\n",
        "  return pd.read_html(url,decimal=',',thousands='')[0][:-1]"
      ],
      "execution_count": 2,
      "outputs": []
    },
    {
      "cell_type": "code",
      "metadata": {
        "id": "ezLpWWvwUtLt"
      },
      "source": [
        "ibov = busca_carteira_teorica('ibrx')"
      ],
      "execution_count": 5,
      "outputs": []
    },
    {
      "cell_type": "code",
      "metadata": {
        "id": "L6d7iZADaD-B"
      },
      "source": [
        "ibov.sort_values('Part. (%)',ascending=False)"
      ],
      "execution_count": null,
      "outputs": []
    }
  ]
}